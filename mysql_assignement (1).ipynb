{
 "cells": [
  {
   "cell_type": "markdown",
   "id": "2395f939-8e87-4489-b6d7-884d3875c1ec",
   "metadata": {},
   "source": [
    "# What is a database? Differentiate between SQL and NoSQL databases."
   ]
  },
  {
   "cell_type": "markdown",
   "id": "0dacad6c-ebc2-44d6-9a72-c95ef4253dd0",
   "metadata": {},
   "source": [
    "A database is a structured collection of data that is organized in a way to facilitate efficient storage, retrieval, and management of information.\n",
    "\n",
    "\n",
    "Certainly! Here's a concise summary of the differences between SQL and NoSQL databases:\n",
    "\n",
    "Data Model:\n",
    "\n",
    "SQL: Follows a structured, predefined schema with tables.\n",
    "NoSQL: No strict schema; uses various models like document-oriented, key-value pairs, column-family, or graph databases.\n",
    "\n",
    "Scalability:\n",
    "\n",
    "SQL: Scales vertically by upgrading hardware; can be costly.\n",
    "NoSQL: Scales horizontally by adding more servers; cost-effective and handles large datasets.\n",
    "\n",
    "Schema:\n",
    "\n",
    "SQL: Requires a predefined schema; changes may be complex and downtime-prone.\n",
    "NoSQL: Schema-less or flexible, accommodating dynamic data structures without downtime.\n",
    "\n",
    "Transaction Support:\n",
    "\n",
    "SQL: Strong support for ACID properties, suitable for data integrity-critical applications.\n",
    "NoSQL: Varies in ACID support; some sacrifice strict consistency for performance and scalability.\n",
    "\n",
    "Use Cases:\n",
    "\n",
    "SQL: Well-suited for applications with complex queries, relationships, and transactional requirements.\n",
    "NoSQL: Suitable for rapidly changing data, large datasets, and distributed or horizontally scalable architectures in scenarios prioritizing flexibility and scalability.\n"
   ]
  },
  {
   "cell_type": "markdown",
   "id": "e9cc7dd4-a1f6-4c9c-b97b-90906e48e252",
   "metadata": {},
   "source": [
    "# What is DDL? Explain why CREATE, DROP, ALTER, and TRUNCATE are used with an example."
   ]
  },
  {
   "cell_type": "markdown",
   "id": "16afe750-9d0f-4a38-81ec-bfa9c2ae3721",
   "metadata": {},
   "source": [
    "DDL, or Data Definition Language, is a subset of SQL (Structured Query Language) used for defining and managing the structure of a database. DDL statements allow you to perform operations on the database schema, such as creating, modifying, or deleting tables and other database objects. Common DDL statements include CREATE, DROP, ALTER, and TRUNCATE."
   ]
  },
  {
   "cell_type": "markdown",
   "id": "01399b0f-5a25-43e4-aca8-2ccde394453d",
   "metadata": {},
   "source": [
    "CREATE:\n",
    "The CREATE statement is used to create new database objects, such as tables, indexes, or views.\n",
    "Example:\n",
    "sql\n",
    "Copy code\n",
    "CREATE TABLE employees (\n",
    "  employee_id INT PRIMARY KEY,\n",
    "  first_name VARCHAR(50),\n",
    "  last_name VARCHAR(50),\n",
    ");\n",
    "This SQL statement creates a table named \"employees\" with columns for employee ID, first name, last name, and hire date.\n",
    "\n",
    "DROP:\n",
    "The DROP statement is used to delete existing database objects, such as tables, indexes, or views.\n",
    "Example:\n",
    "sql\n",
    "Copy code\n",
    "DROP TABLE employees;\n",
    "This SQL statement deletes the \"employees\" table, removing it from the database.\n",
    "\n",
    "ALTER:\n",
    "The ALTER statement is used to modify the structure of existing database objects, such as adding, modifying, or dropping columns in a table.\n",
    "Example:\n",
    "sql\n",
    "Copy code\n",
    "ALTER TABLE employees\n",
    "ADD COLUMN department_id INT;\n",
    "This SQL statement adds a new column named \"department_id\" to the \"employees\" table.\n",
    "\n",
    "TRUNCATE:\n",
    " The TRUNCATE statement is used to remove all rows from a table, but the table structure and its columns remain intact.\n",
    "Example:\n",
    "sql\n",
    "Copy code\n",
    "TRUNCATE TABLE employees;\n",
    "This SQL statement removes all rows from the \"employees\" table, leaving the table structure intact. It is faster than DELETE for removing all data from a table."
   ]
  },
  {
   "cell_type": "markdown",
   "id": "59a217d1-62b4-43d2-b502-3e989d1c621e",
   "metadata": {
    "tags": []
   },
   "source": [
    "# What is DML? Explain INSERT, UPDATE, and DELETE with an example."
   ]
  },
  {
   "cell_type": "raw",
   "id": "34123361-46e5-4171-9b75-a34e95d5323b",
   "metadata": {},
   "source": [
    "DML (Data Manipulation Language):\n",
    "\n",
    "DML stands for Data Manipulation Language, and it is a subset of SQL that deals with the manipulation and retrieval of data stored in a database. The three main DML commands are:\n",
    "\n",
    "INSERT:\n",
    "\n",
    "Used to add new records (rows) into a table.\n",
    "Example: Inserting a new employee into the \"Employees\" table.\n",
    "sql\n",
    "Copy code\n",
    "INSERT INTO Employees (ID, Name, Salary, Department)\n",
    "VALUES (1, 'John Doe', 50000.00, 'IT');\n",
    "In this example, a new record is inserted into the \"Employees\" table, providing values for the ID, Name, Salary, and Department columns.\n",
    "\n",
    "UPDATE:\n",
    "\n",
    "Used to modify existing records in a table.\n",
    "Example: Updating the salary for an employee with ID 1 in the \"Employees\" table.\n",
    "sql\n",
    "Copy code\n",
    "UPDATE Employees\n",
    "SET Salary = 55000.00\n",
    "WHERE ID = 1;\n",
    "This query updates the salary of the employee with ID 1 to 55000.00 in the \"Employees\" table.\n",
    "\n",
    "DELETE:\n",
    "\n",
    "Used to remove records from a table based on a specified condition.\n",
    "Example: Deleting an employee with ID 1 from the \"Employees\" table.\n",
    "sql\n",
    "Copy code\n",
    "DELETE FROM Employees\n",
    "WHERE ID = 1;\n",
    "The DELETE statement removes the record of the employee with ID 1 from the \"Employees\" table"
   ]
  },
  {
   "cell_type": "markdown",
   "id": "db8cbb8f-4b93-4e0a-be05-6d8877b02d87",
   "metadata": {},
   "source": [
    "# What is DQL? Explain SELECT with an example."
   ]
  },
  {
   "cell_type": "markdown",
   "id": "30ad19cc-1335-44b6-b609-c737b71229f1",
   "metadata": {},
   "source": [
    "DQL stands for Data Query Language. It is a subset of SQL (Structured Query Language) specifically designed for querying and retrieving data from a database. DQL is used to perform queries on a database to retrieve the information you need\n",
    "\n",
    "The most common DQL statement is the SELECT statement, which is used to retrieve data from one or more tables in a database.\n",
    "\n",
    "example:\n",
    "SELECT FirstName, LastName, Salary\n",
    "FROM Employees\n",
    "WHERE Salary > 50000;"
   ]
  },
  {
   "cell_type": "markdown",
   "id": "5f8ae529-56b8-4097-b9fa-ab271b728816",
   "metadata": {},
   "source": [
    "# Explain Primary Key and Foreign Key."
   ]
  },
  {
   "cell_type": "markdown",
   "id": "46f226eb-ac8a-45ec-b278-e1a48f3a2691",
   "metadata": {},
   "source": [
    "Primary Key:\n",
    "\n",
    "A primary key uniquely identifies each record in a table, ensuring:\n",
    "\n",
    "- Uniqueness: Values must be unique across all records.\n",
    "- Non-nullability: No NULL values allowed for a consistent identifier.\n",
    "- Immutability: Values should remain constant to maintain relationships.\n",
    "\n",
    "It's essential for data integrity and efficient retrieval, typically created during table definition.\n",
    "\n",
    "Foreign Key:\n",
    "\n",
    "A foreign key links tables by referencing the primary key of another table, enforcing:\n",
    "\n",
    "- Referential Integrity: Values in the foreign key must match the referenced primary key or be NULL if optional.\n",
    "- Relationship Establishment: Connects tables based on dependencies or associations.\n",
    "- Cascading Actions: Changes in the referenced primary key can impact foreign key relationships, managed through actions like CASCADE or SET NULL."
   ]
  },
  {
   "cell_type": "markdown",
   "id": "40496287-af43-463a-9bd9-e90e8a096b2f",
   "metadata": {},
   "source": [
    "# Write a python code to connect MySQL to python. Explain the cursor() and execute() method."
   ]
  },
  {
   "cell_type": "code",
   "execution_count": 2,
   "id": "319d91e3-c290-4e53-9845-25008b004c2a",
   "metadata": {},
   "outputs": [
    {
     "ename": "ModuleNotFoundError",
     "evalue": "No module named 'mysql'",
     "output_type": "error",
     "traceback": [
      "\u001b[0;31m---------------------------------------------------------------------------\u001b[0m",
      "\u001b[0;31mModuleNotFoundError\u001b[0m                       Traceback (most recent call last)",
      "Cell \u001b[0;32mIn[2], line 1\u001b[0m\n\u001b[0;32m----> 1\u001b[0m \u001b[38;5;28;01mimport\u001b[39;00m \u001b[38;5;21;01mmysql\u001b[39;00m\u001b[38;5;21;01m.\u001b[39;00m\u001b[38;5;21;01mconnector\u001b[39;00m\n\u001b[1;32m      2\u001b[0m mydb \u001b[38;5;241m=\u001b[39m mysql\u001b[38;5;241m.\u001b[39mconnector\u001b[38;5;241m.\u001b[39mconnect(\n\u001b[1;32m      3\u001b[0m   host\u001b[38;5;241m=\u001b[39m\u001b[38;5;124m\"\u001b[39m\u001b[38;5;124mlocalhost\u001b[39m\u001b[38;5;124m\"\u001b[39m,\n\u001b[1;32m      4\u001b[0m   user\u001b[38;5;241m=\u001b[39m\u001b[38;5;124m\"\u001b[39m\u001b[38;5;124mabc\u001b[39m\u001b[38;5;124m\"\u001b[39m,\n\u001b[1;32m      5\u001b[0m   password\u001b[38;5;241m=\u001b[39m\u001b[38;5;124m\"\u001b[39m\u001b[38;5;124mpassword\u001b[39m\u001b[38;5;124m\"\u001b[39m\n\u001b[1;32m      6\u001b[0m )\n\u001b[1;32m      7\u001b[0m mycursor \u001b[38;5;241m=\u001b[39m mydb\u001b[38;5;241m.\u001b[39mcursor()\n",
      "\u001b[0;31mModuleNotFoundError\u001b[0m: No module named 'mysql'"
     ]
    }
   ],
   "source": [
    "import mysql.connector\n",
    "mydb = mysql.connector.connect(\n",
    "  host=\"localhost\",\n",
    "  user=\"abc\",\n",
    "  password=\"password\"\n",
    ")\n",
    "mycursor = mydb.cursor()\n",
    "#mycursor.execute(\"select * from test1.test_table\")\n",
    "mycursor.execute(\"select c1 ,c5 from test1.test_table\")\n",
    "for i in mycursor.fetchall():\n",
    "    print(i)"
   ]
  },
  {
   "cell_type": "markdown",
   "id": "0da5307d-4c68-4056-b335-5712882205cb",
   "metadata": {},
   "source": [
    "cursor():\n",
    "\n",
    "The `cursor()` method is used in database programming to create a cursor object, which acts as a pointer to a specific row or set of rows in a database result set. This cursor allows you to interact with the database, execute SQL queries, and fetch or manipulate data.\n",
    "\n",
    "execute():\n",
    "\n",
    "The `execute()` method is used with a cursor object to execute a SQL query or command. It takes the SQL statement as a parameter and sends it to the database for execution. This method is essential for performing actions such as retrieving data, updating records, or creating and modifying database structures."
   ]
  },
  {
   "cell_type": "markdown",
   "id": "8e63d592-e7ef-4c2f-b205-5b9c6ac58830",
   "metadata": {},
   "source": [
    "# Give the order of execution of SQL clauses in an SQL query."
   ]
  },
  {
   "cell_type": "markdown",
   "id": "af69b573-6315-4d21-bdf7-cab8462bccfb",
   "metadata": {},
   "source": [
    "The order of execution of SQL clauses in a SELECT statement (a common SQL query) is as follows:\n",
    "\n",
    "FROM: Specifies the table or tables from which to retrieve data.\n",
    "\n",
    "WHERE: Filters the rows based on a specified condition.\n",
    "\n",
    "GROUP BY: Groups the rows that have the same values in specified columns into summary rows.\n",
    "\n",
    "HAVING: Filters the results of the GROUP BY clause based on a specified condition.\n",
    "\n",
    "SELECT: Specifies the columns to be retrieved from the table.\n",
    "\n",
    "ORDER BY: Sorts the result set based on specified columns in ascending or descending order."
   ]
  },
  {
   "cell_type": "code",
   "execution_count": null,
   "id": "64417d5b-9eae-4ac2-95a9-066db990bac8",
   "metadata": {},
   "outputs": [],
   "source": []
  },
  {
   "cell_type": "code",
   "execution_count": null,
   "id": "4eb08d77-ccad-48d5-b1b8-0f285990b815",
   "metadata": {},
   "outputs": [],
   "source": []
  }
 ],
 "metadata": {
  "kernelspec": {
   "display_name": "Python 3 (ipykernel)",
   "language": "python",
   "name": "python3"
  },
  "language_info": {
   "codemirror_mode": {
    "name": "ipython",
    "version": 3
   },
   "file_extension": ".py",
   "mimetype": "text/x-python",
   "name": "python",
   "nbconvert_exporter": "python",
   "pygments_lexer": "ipython3",
   "version": "3.10.8"
  }
 },
 "nbformat": 4,
 "nbformat_minor": 5
}
